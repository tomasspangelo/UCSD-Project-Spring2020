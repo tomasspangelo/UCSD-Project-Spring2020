{
 "cells": [
  {
   "cell_type": "markdown",
   "metadata": {},
   "source": [
    "#  Car Evaluation Data Set"
   ]
  },
  {
   "cell_type": "code",
   "execution_count": 1,
   "metadata": {},
   "outputs": [],
   "source": [
    "%config InlineBackend.figure_format = 'retina'\n",
    "import numpy as np\n",
    "import pandas as pd\n",
    "import seaborn as sns\n",
    "\n",
    "import matplotlib.pyplot as plt\n",
    "from sklearn import datasets\n",
    "from sklearn import svm\n",
    "from sklearn import preprocessing\n",
    "from sklearn import neighbors\n",
    "from sklearn import ensemble\n",
    "from sklearn.model_selection import train_test_split, GridSearchCV\n",
    "from sklearn.metrics import accuracy_score"
   ]
  },
  {
   "cell_type": "markdown",
   "metadata": {},
   "source": [
    "## Data preparation and preprocessing"
   ]
  },
  {
   "cell_type": "code",
   "execution_count": 2,
   "metadata": {},
   "outputs": [],
   "source": [
    "column_names = ['buying', 'maint', 'doors', 'persons', \n",
    "                'lug_boot', 'safety', 'acceptability']\n",
    "car_df = pd.read_csv('car.data', names=column_names, \n",
    "             sep=',', na_values='?', skipinitialspace=True)"
   ]
  },
  {
   "cell_type": "markdown",
   "metadata": {},
   "source": [
    "Let's have a look at the categorical data (all of the data) to see if we have any missing values:"
   ]
  },
  {
   "cell_type": "code",
   "execution_count": 3,
   "metadata": {},
   "outputs": [
    {
     "data": {
      "text/plain": [
       "buying           0\n",
       "maint            0\n",
       "doors            0\n",
       "persons          0\n",
       "lug_boot         0\n",
       "safety           0\n",
       "acceptability    0\n",
       "dtype: int64"
      ]
     },
     "execution_count": 3,
     "metadata": {},
     "output_type": "execute_result"
    }
   ],
   "source": [
    "car_df.isna().sum()"
   ]
  },
  {
   "cell_type": "markdown",
   "metadata": {},
   "source": [
    "Now I'll use one-hot encoding to transform the categorical features into numerical ones:"
   ]
  },
  {
   "cell_type": "code",
   "execution_count": 4,
   "metadata": {},
   "outputs": [
    {
     "name": "stdout",
     "output_type": "stream",
     "text": [
      "(1728, 21)\n"
     ]
    }
   ],
   "source": [
    "X_df = car_df.drop(\"acceptability\", axis=1, inplace=False) # Make DataFrame object without labels\n",
    "X_df = pd.get_dummies(X_df, columns=['buying', 'maint', 'doors',\n",
    "                                     'persons', 'lug_boot', 'safety']) # (1728, 21)\n",
    "print (X_df.shape)"
   ]
  },
  {
   "cell_type": "markdown",
   "metadata": {},
   "source": [
    "Now, let's split into X and Y. I'll use binary classification, so unacc=-1 and the rest is +1."
   ]
  },
  {
   "cell_type": "code",
   "execution_count": 5,
   "metadata": {},
   "outputs": [],
   "source": [
    "X = X_df.values\n",
    "\n",
    "#Map acceptability to -1 and 1\n",
    "car_df['acceptability'] = car_df['acceptability'].map({ 'unacc': -1, 'acc': 1, 'good': 1, 'vgood': 1  })\n",
    "Y = car_df.values[:,-1] # (1728, )\n",
    "Y = Y.astype('int')"
   ]
  },
  {
   "cell_type": "markdown",
   "metadata": {},
   "source": [
    "Let's check how many positives we have (for display purposes)."
   ]
  },
  {
   "cell_type": "code",
   "execution_count": 12,
   "metadata": {},
   "outputs": [
    {
     "name": "stdout",
     "output_type": "stream",
     "text": [
      "518\n",
      "0.29976851851851855\n"
     ]
    }
   ],
   "source": [
    "pos_count = len(list(filter(lambda x: (x >= 0), Y)))\n",
    "print(pos_count)\n",
    "print(pos_count/len(Y))"
   ]
  },
  {
   "cell_type": "markdown",
   "metadata": {},
   "source": [
    "## Main algorithm"
   ]
  },
  {
   "cell_type": "code",
   "execution_count": 6,
   "metadata": {},
   "outputs": [
    {
     "name": "stdout",
     "output_type": "stream",
     "text": [
      "-----------------------------------\n",
      "\n",
      "Partition (% training): 20.0\n",
      "Trial number 1/3\n",
      "\n",
      "Linear SVM\n",
      "Best parameter, C: 100\n",
      "[0.9710144927536232, 0.9587852494577006]\n",
      "\n",
      "k-NN\n"
     ]
    },
    {
     "name": "stderr",
     "output_type": "stream",
     "text": [
      "/Users/tomash.spangelo/anaconda3/lib/python3.7/site-packages/sklearn/svm/_base.py:947: ConvergenceWarning: Liblinear failed to converge, increase the number of iterations.\n",
      "  \"the number of iterations.\", ConvergenceWarning)\n",
      "/Users/tomash.spangelo/anaconda3/lib/python3.7/site-packages/sklearn/svm/_base.py:947: ConvergenceWarning: Liblinear failed to converge, increase the number of iterations.\n",
      "  \"the number of iterations.\", ConvergenceWarning)\n",
      "/Users/tomash.spangelo/anaconda3/lib/python3.7/site-packages/sklearn/svm/_base.py:947: ConvergenceWarning: Liblinear failed to converge, increase the number of iterations.\n",
      "  \"the number of iterations.\", ConvergenceWarning)\n",
      "/Users/tomash.spangelo/anaconda3/lib/python3.7/site-packages/sklearn/svm/_base.py:947: ConvergenceWarning: Liblinear failed to converge, increase the number of iterations.\n",
      "  \"the number of iterations.\", ConvergenceWarning)\n",
      "/Users/tomash.spangelo/anaconda3/lib/python3.7/site-packages/sklearn/svm/_base.py:947: ConvergenceWarning: Liblinear failed to converge, increase the number of iterations.\n",
      "  \"the number of iterations.\", ConvergenceWarning)\n",
      "/Users/tomash.spangelo/anaconda3/lib/python3.7/site-packages/sklearn/svm/_base.py:947: ConvergenceWarning: Liblinear failed to converge, increase the number of iterations.\n",
      "  \"the number of iterations.\", ConvergenceWarning)\n",
      "/Users/tomash.spangelo/anaconda3/lib/python3.7/site-packages/sklearn/svm/_base.py:947: ConvergenceWarning: Liblinear failed to converge, increase the number of iterations.\n",
      "  \"the number of iterations.\", ConvergenceWarning)\n",
      "/Users/tomash.spangelo/anaconda3/lib/python3.7/site-packages/sklearn/svm/_base.py:947: ConvergenceWarning: Liblinear failed to converge, increase the number of iterations.\n",
      "  \"the number of iterations.\", ConvergenceWarning)\n",
      "/Users/tomash.spangelo/anaconda3/lib/python3.7/site-packages/sklearn/svm/_base.py:947: ConvergenceWarning: Liblinear failed to converge, increase the number of iterations.\n",
      "  \"the number of iterations.\", ConvergenceWarning)\n",
      "/Users/tomash.spangelo/anaconda3/lib/python3.7/site-packages/sklearn/svm/_base.py:947: ConvergenceWarning: Liblinear failed to converge, increase the number of iterations.\n",
      "  \"the number of iterations.\", ConvergenceWarning)\n",
      "/Users/tomash.spangelo/anaconda3/lib/python3.7/site-packages/sklearn/svm/_base.py:947: ConvergenceWarning: Liblinear failed to converge, increase the number of iterations.\n",
      "  \"the number of iterations.\", ConvergenceWarning)\n",
      "/Users/tomash.spangelo/anaconda3/lib/python3.7/site-packages/sklearn/svm/_base.py:947: ConvergenceWarning: Liblinear failed to converge, increase the number of iterations.\n",
      "  \"the number of iterations.\", ConvergenceWarning)\n",
      "/Users/tomash.spangelo/anaconda3/lib/python3.7/site-packages/sklearn/svm/_base.py:947: ConvergenceWarning: Liblinear failed to converge, increase the number of iterations.\n",
      "  \"the number of iterations.\", ConvergenceWarning)\n",
      "/Users/tomash.spangelo/anaconda3/lib/python3.7/site-packages/sklearn/svm/_base.py:947: ConvergenceWarning: Liblinear failed to converge, increase the number of iterations.\n",
      "  \"the number of iterations.\", ConvergenceWarning)\n",
      "/Users/tomash.spangelo/anaconda3/lib/python3.7/site-packages/sklearn/svm/_base.py:947: ConvergenceWarning: Liblinear failed to converge, increase the number of iterations.\n",
      "  \"the number of iterations.\", ConvergenceWarning)\n",
      "/Users/tomash.spangelo/anaconda3/lib/python3.7/site-packages/sklearn/svm/_base.py:947: ConvergenceWarning: Liblinear failed to converge, increase the number of iterations.\n",
      "  \"the number of iterations.\", ConvergenceWarning)\n",
      "/Users/tomash.spangelo/anaconda3/lib/python3.7/site-packages/sklearn/svm/_base.py:947: ConvergenceWarning: Liblinear failed to converge, increase the number of iterations.\n",
      "  \"the number of iterations.\", ConvergenceWarning)\n",
      "/Users/tomash.spangelo/anaconda3/lib/python3.7/site-packages/sklearn/svm/_base.py:947: ConvergenceWarning: Liblinear failed to converge, increase the number of iterations.\n",
      "  \"the number of iterations.\", ConvergenceWarning)\n",
      "/Users/tomash.spangelo/anaconda3/lib/python3.7/site-packages/sklearn/svm/_base.py:947: ConvergenceWarning: Liblinear failed to converge, increase the number of iterations.\n",
      "  \"the number of iterations.\", ConvergenceWarning)\n",
      "/Users/tomash.spangelo/anaconda3/lib/python3.7/site-packages/sklearn/svm/_base.py:947: ConvergenceWarning: Liblinear failed to converge, increase the number of iterations.\n",
      "  \"the number of iterations.\", ConvergenceWarning)\n",
      "/Users/tomash.spangelo/anaconda3/lib/python3.7/site-packages/sklearn/svm/_base.py:947: ConvergenceWarning: Liblinear failed to converge, increase the number of iterations.\n",
      "  \"the number of iterations.\", ConvergenceWarning)\n",
      "/Users/tomash.spangelo/anaconda3/lib/python3.7/site-packages/sklearn/svm/_base.py:947: ConvergenceWarning: Liblinear failed to converge, increase the number of iterations.\n",
      "  \"the number of iterations.\", ConvergenceWarning)\n",
      "/Users/tomash.spangelo/anaconda3/lib/python3.7/site-packages/sklearn/svm/_base.py:947: ConvergenceWarning: Liblinear failed to converge, increase the number of iterations.\n",
      "  \"the number of iterations.\", ConvergenceWarning)\n",
      "/Users/tomash.spangelo/anaconda3/lib/python3.7/site-packages/sklearn/svm/_base.py:947: ConvergenceWarning: Liblinear failed to converge, increase the number of iterations.\n",
      "  \"the number of iterations.\", ConvergenceWarning)\n",
      "/Users/tomash.spangelo/anaconda3/lib/python3.7/site-packages/sklearn/svm/_base.py:947: ConvergenceWarning: Liblinear failed to converge, increase the number of iterations.\n",
      "  \"the number of iterations.\", ConvergenceWarning)\n",
      "/Users/tomash.spangelo/anaconda3/lib/python3.7/site-packages/sklearn/svm/_base.py:947: ConvergenceWarning: Liblinear failed to converge, increase the number of iterations.\n",
      "  \"the number of iterations.\", ConvergenceWarning)\n",
      "/Users/tomash.spangelo/anaconda3/lib/python3.7/site-packages/sklearn/svm/_base.py:947: ConvergenceWarning: Liblinear failed to converge, increase the number of iterations.\n",
      "  \"the number of iterations.\", ConvergenceWarning)\n"
     ]
    },
    {
     "name": "stdout",
     "output_type": "stream",
     "text": [
      "Best parameter, k: 9\n",
      "[0.9420289855072463, 0.8734634851771511]\n",
      "\n",
      "Random forest\n",
      "Best parameter, n_estimators: 100\n",
      "Best parameter, max_depth: 10\n",
      "[1.0, 0.958062183658713]\n",
      "-----------------------------------\n",
      "\n",
      "Partition (% training): 20.0\n",
      "Trial number 2/3\n",
      "\n",
      "Linear SVM\n",
      "Best parameter, C: 1\n",
      "[0.9710144927536232, 0.9587852494577006, 0.9652173913043478, 0.935647143890094]\n",
      "\n",
      "k-NN\n"
     ]
    },
    {
     "name": "stderr",
     "output_type": "stream",
     "text": [
      "/Users/tomash.spangelo/anaconda3/lib/python3.7/site-packages/sklearn/svm/_base.py:947: ConvergenceWarning: Liblinear failed to converge, increase the number of iterations.\n",
      "  \"the number of iterations.\", ConvergenceWarning)\n",
      "/Users/tomash.spangelo/anaconda3/lib/python3.7/site-packages/sklearn/svm/_base.py:947: ConvergenceWarning: Liblinear failed to converge, increase the number of iterations.\n",
      "  \"the number of iterations.\", ConvergenceWarning)\n",
      "/Users/tomash.spangelo/anaconda3/lib/python3.7/site-packages/sklearn/svm/_base.py:947: ConvergenceWarning: Liblinear failed to converge, increase the number of iterations.\n",
      "  \"the number of iterations.\", ConvergenceWarning)\n",
      "/Users/tomash.spangelo/anaconda3/lib/python3.7/site-packages/sklearn/svm/_base.py:947: ConvergenceWarning: Liblinear failed to converge, increase the number of iterations.\n",
      "  \"the number of iterations.\", ConvergenceWarning)\n",
      "/Users/tomash.spangelo/anaconda3/lib/python3.7/site-packages/sklearn/svm/_base.py:947: ConvergenceWarning: Liblinear failed to converge, increase the number of iterations.\n",
      "  \"the number of iterations.\", ConvergenceWarning)\n",
      "/Users/tomash.spangelo/anaconda3/lib/python3.7/site-packages/sklearn/svm/_base.py:947: ConvergenceWarning: Liblinear failed to converge, increase the number of iterations.\n",
      "  \"the number of iterations.\", ConvergenceWarning)\n",
      "/Users/tomash.spangelo/anaconda3/lib/python3.7/site-packages/sklearn/svm/_base.py:947: ConvergenceWarning: Liblinear failed to converge, increase the number of iterations.\n",
      "  \"the number of iterations.\", ConvergenceWarning)\n",
      "/Users/tomash.spangelo/anaconda3/lib/python3.7/site-packages/sklearn/svm/_base.py:947: ConvergenceWarning: Liblinear failed to converge, increase the number of iterations.\n",
      "  \"the number of iterations.\", ConvergenceWarning)\n",
      "/Users/tomash.spangelo/anaconda3/lib/python3.7/site-packages/sklearn/svm/_base.py:947: ConvergenceWarning: Liblinear failed to converge, increase the number of iterations.\n",
      "  \"the number of iterations.\", ConvergenceWarning)\n",
      "/Users/tomash.spangelo/anaconda3/lib/python3.7/site-packages/sklearn/svm/_base.py:947: ConvergenceWarning: Liblinear failed to converge, increase the number of iterations.\n",
      "  \"the number of iterations.\", ConvergenceWarning)\n",
      "/Users/tomash.spangelo/anaconda3/lib/python3.7/site-packages/sklearn/svm/_base.py:947: ConvergenceWarning: Liblinear failed to converge, increase the number of iterations.\n",
      "  \"the number of iterations.\", ConvergenceWarning)\n",
      "/Users/tomash.spangelo/anaconda3/lib/python3.7/site-packages/sklearn/svm/_base.py:947: ConvergenceWarning: Liblinear failed to converge, increase the number of iterations.\n",
      "  \"the number of iterations.\", ConvergenceWarning)\n",
      "/Users/tomash.spangelo/anaconda3/lib/python3.7/site-packages/sklearn/svm/_base.py:947: ConvergenceWarning: Liblinear failed to converge, increase the number of iterations.\n",
      "  \"the number of iterations.\", ConvergenceWarning)\n",
      "/Users/tomash.spangelo/anaconda3/lib/python3.7/site-packages/sklearn/svm/_base.py:947: ConvergenceWarning: Liblinear failed to converge, increase the number of iterations.\n",
      "  \"the number of iterations.\", ConvergenceWarning)\n",
      "/Users/tomash.spangelo/anaconda3/lib/python3.7/site-packages/sklearn/svm/_base.py:947: ConvergenceWarning: Liblinear failed to converge, increase the number of iterations.\n",
      "  \"the number of iterations.\", ConvergenceWarning)\n",
      "/Users/tomash.spangelo/anaconda3/lib/python3.7/site-packages/sklearn/svm/_base.py:947: ConvergenceWarning: Liblinear failed to converge, increase the number of iterations.\n",
      "  \"the number of iterations.\", ConvergenceWarning)\n",
      "/Users/tomash.spangelo/anaconda3/lib/python3.7/site-packages/sklearn/svm/_base.py:947: ConvergenceWarning: Liblinear failed to converge, increase the number of iterations.\n",
      "  \"the number of iterations.\", ConvergenceWarning)\n",
      "/Users/tomash.spangelo/anaconda3/lib/python3.7/site-packages/sklearn/svm/_base.py:947: ConvergenceWarning: Liblinear failed to converge, increase the number of iterations.\n",
      "  \"the number of iterations.\", ConvergenceWarning)\n",
      "/Users/tomash.spangelo/anaconda3/lib/python3.7/site-packages/sklearn/svm/_base.py:947: ConvergenceWarning: Liblinear failed to converge, increase the number of iterations.\n",
      "  \"the number of iterations.\", ConvergenceWarning)\n",
      "/Users/tomash.spangelo/anaconda3/lib/python3.7/site-packages/sklearn/svm/_base.py:947: ConvergenceWarning: Liblinear failed to converge, increase the number of iterations.\n",
      "  \"the number of iterations.\", ConvergenceWarning)\n",
      "/Users/tomash.spangelo/anaconda3/lib/python3.7/site-packages/sklearn/svm/_base.py:947: ConvergenceWarning: Liblinear failed to converge, increase the number of iterations.\n",
      "  \"the number of iterations.\", ConvergenceWarning)\n",
      "/Users/tomash.spangelo/anaconda3/lib/python3.7/site-packages/sklearn/svm/_base.py:947: ConvergenceWarning: Liblinear failed to converge, increase the number of iterations.\n",
      "  \"the number of iterations.\", ConvergenceWarning)\n"
     ]
    },
    {
     "name": "stdout",
     "output_type": "stream",
     "text": [
      "Best parameter, k: 9\n",
      "[0.9420289855072463, 0.8734634851771511, 0.927536231884058, 0.8756326825741142]\n",
      "\n",
      "Random forest\n",
      "Best parameter, n_estimators: 25\n",
      "Best parameter, max_depth: 10\n",
      "[1.0, 0.958062183658713, 1.0, 0.9276934201012292]\n",
      "-----------------------------------\n",
      "\n",
      "Partition (% training): 20.0\n",
      "Trial number 3/3\n",
      "\n",
      "Linear SVM\n",
      "Best parameter, C: 1\n",
      "[0.9710144927536232, 0.9587852494577006, 0.9652173913043478, 0.935647143890094, 0.9594202898550724, 0.9522776572668112]\n",
      "\n",
      "k-NN\n"
     ]
    },
    {
     "name": "stderr",
     "output_type": "stream",
     "text": [
      "/Users/tomash.spangelo/anaconda3/lib/python3.7/site-packages/sklearn/svm/_base.py:947: ConvergenceWarning: Liblinear failed to converge, increase the number of iterations.\n",
      "  \"the number of iterations.\", ConvergenceWarning)\n",
      "/Users/tomash.spangelo/anaconda3/lib/python3.7/site-packages/sklearn/svm/_base.py:947: ConvergenceWarning: Liblinear failed to converge, increase the number of iterations.\n",
      "  \"the number of iterations.\", ConvergenceWarning)\n",
      "/Users/tomash.spangelo/anaconda3/lib/python3.7/site-packages/sklearn/svm/_base.py:947: ConvergenceWarning: Liblinear failed to converge, increase the number of iterations.\n",
      "  \"the number of iterations.\", ConvergenceWarning)\n",
      "/Users/tomash.spangelo/anaconda3/lib/python3.7/site-packages/sklearn/svm/_base.py:947: ConvergenceWarning: Liblinear failed to converge, increase the number of iterations.\n",
      "  \"the number of iterations.\", ConvergenceWarning)\n",
      "/Users/tomash.spangelo/anaconda3/lib/python3.7/site-packages/sklearn/svm/_base.py:947: ConvergenceWarning: Liblinear failed to converge, increase the number of iterations.\n",
      "  \"the number of iterations.\", ConvergenceWarning)\n",
      "/Users/tomash.spangelo/anaconda3/lib/python3.7/site-packages/sklearn/svm/_base.py:947: ConvergenceWarning: Liblinear failed to converge, increase the number of iterations.\n",
      "  \"the number of iterations.\", ConvergenceWarning)\n",
      "/Users/tomash.spangelo/anaconda3/lib/python3.7/site-packages/sklearn/svm/_base.py:947: ConvergenceWarning: Liblinear failed to converge, increase the number of iterations.\n",
      "  \"the number of iterations.\", ConvergenceWarning)\n",
      "/Users/tomash.spangelo/anaconda3/lib/python3.7/site-packages/sklearn/svm/_base.py:947: ConvergenceWarning: Liblinear failed to converge, increase the number of iterations.\n",
      "  \"the number of iterations.\", ConvergenceWarning)\n",
      "/Users/tomash.spangelo/anaconda3/lib/python3.7/site-packages/sklearn/svm/_base.py:947: ConvergenceWarning: Liblinear failed to converge, increase the number of iterations.\n",
      "  \"the number of iterations.\", ConvergenceWarning)\n",
      "/Users/tomash.spangelo/anaconda3/lib/python3.7/site-packages/sklearn/svm/_base.py:947: ConvergenceWarning: Liblinear failed to converge, increase the number of iterations.\n",
      "  \"the number of iterations.\", ConvergenceWarning)\n",
      "/Users/tomash.spangelo/anaconda3/lib/python3.7/site-packages/sklearn/svm/_base.py:947: ConvergenceWarning: Liblinear failed to converge, increase the number of iterations.\n",
      "  \"the number of iterations.\", ConvergenceWarning)\n",
      "/Users/tomash.spangelo/anaconda3/lib/python3.7/site-packages/sklearn/svm/_base.py:947: ConvergenceWarning: Liblinear failed to converge, increase the number of iterations.\n",
      "  \"the number of iterations.\", ConvergenceWarning)\n",
      "/Users/tomash.spangelo/anaconda3/lib/python3.7/site-packages/sklearn/svm/_base.py:947: ConvergenceWarning: Liblinear failed to converge, increase the number of iterations.\n",
      "  \"the number of iterations.\", ConvergenceWarning)\n",
      "/Users/tomash.spangelo/anaconda3/lib/python3.7/site-packages/sklearn/svm/_base.py:947: ConvergenceWarning: Liblinear failed to converge, increase the number of iterations.\n",
      "  \"the number of iterations.\", ConvergenceWarning)\n",
      "/Users/tomash.spangelo/anaconda3/lib/python3.7/site-packages/sklearn/svm/_base.py:947: ConvergenceWarning: Liblinear failed to converge, increase the number of iterations.\n",
      "  \"the number of iterations.\", ConvergenceWarning)\n",
      "/Users/tomash.spangelo/anaconda3/lib/python3.7/site-packages/sklearn/svm/_base.py:947: ConvergenceWarning: Liblinear failed to converge, increase the number of iterations.\n",
      "  \"the number of iterations.\", ConvergenceWarning)\n",
      "/Users/tomash.spangelo/anaconda3/lib/python3.7/site-packages/sklearn/svm/_base.py:947: ConvergenceWarning: Liblinear failed to converge, increase the number of iterations.\n",
      "  \"the number of iterations.\", ConvergenceWarning)\n",
      "/Users/tomash.spangelo/anaconda3/lib/python3.7/site-packages/sklearn/svm/_base.py:947: ConvergenceWarning: Liblinear failed to converge, increase the number of iterations.\n",
      "  \"the number of iterations.\", ConvergenceWarning)\n",
      "/Users/tomash.spangelo/anaconda3/lib/python3.7/site-packages/sklearn/svm/_base.py:947: ConvergenceWarning: Liblinear failed to converge, increase the number of iterations.\n",
      "  \"the number of iterations.\", ConvergenceWarning)\n",
      "/Users/tomash.spangelo/anaconda3/lib/python3.7/site-packages/sklearn/svm/_base.py:947: ConvergenceWarning: Liblinear failed to converge, increase the number of iterations.\n",
      "  \"the number of iterations.\", ConvergenceWarning)\n",
      "/Users/tomash.spangelo/anaconda3/lib/python3.7/site-packages/sklearn/svm/_base.py:947: ConvergenceWarning: Liblinear failed to converge, increase the number of iterations.\n",
      "  \"the number of iterations.\", ConvergenceWarning)\n",
      "/Users/tomash.spangelo/anaconda3/lib/python3.7/site-packages/sklearn/svm/_base.py:947: ConvergenceWarning: Liblinear failed to converge, increase the number of iterations.\n",
      "  \"the number of iterations.\", ConvergenceWarning)\n"
     ]
    },
    {
     "name": "stdout",
     "output_type": "stream",
     "text": [
      "Best parameter, k: 9\n",
      "[0.9420289855072463, 0.8734634851771511, 0.927536231884058, 0.8756326825741142, 0.9217391304347826, 0.9052783803326103]\n",
      "\n",
      "Random forest\n",
      "Best parameter, n_estimators: 25\n",
      "Best parameter, max_depth: 10\n",
      "[1.0, 0.958062183658713, 1.0, 0.9276934201012292, 1.0, 0.9450469992769343]\n",
      "-----------------------------------\n",
      "\n",
      "Partition (% training): 80.0\n",
      "Trial number 1/3\n",
      "\n",
      "Linear SVM\n"
     ]
    },
    {
     "name": "stderr",
     "output_type": "stream",
     "text": [
      "/Users/tomash.spangelo/anaconda3/lib/python3.7/site-packages/sklearn/svm/_base.py:947: ConvergenceWarning: Liblinear failed to converge, increase the number of iterations.\n",
      "  \"the number of iterations.\", ConvergenceWarning)\n",
      "/Users/tomash.spangelo/anaconda3/lib/python3.7/site-packages/sklearn/svm/_base.py:947: ConvergenceWarning: Liblinear failed to converge, increase the number of iterations.\n",
      "  \"the number of iterations.\", ConvergenceWarning)\n",
      "/Users/tomash.spangelo/anaconda3/lib/python3.7/site-packages/sklearn/svm/_base.py:947: ConvergenceWarning: Liblinear failed to converge, increase the number of iterations.\n",
      "  \"the number of iterations.\", ConvergenceWarning)\n",
      "/Users/tomash.spangelo/anaconda3/lib/python3.7/site-packages/sklearn/svm/_base.py:947: ConvergenceWarning: Liblinear failed to converge, increase the number of iterations.\n",
      "  \"the number of iterations.\", ConvergenceWarning)\n",
      "/Users/tomash.spangelo/anaconda3/lib/python3.7/site-packages/sklearn/svm/_base.py:947: ConvergenceWarning: Liblinear failed to converge, increase the number of iterations.\n",
      "  \"the number of iterations.\", ConvergenceWarning)\n",
      "/Users/tomash.spangelo/anaconda3/lib/python3.7/site-packages/sklearn/svm/_base.py:947: ConvergenceWarning: Liblinear failed to converge, increase the number of iterations.\n",
      "  \"the number of iterations.\", ConvergenceWarning)\n",
      "/Users/tomash.spangelo/anaconda3/lib/python3.7/site-packages/sklearn/svm/_base.py:947: ConvergenceWarning: Liblinear failed to converge, increase the number of iterations.\n",
      "  \"the number of iterations.\", ConvergenceWarning)\n",
      "/Users/tomash.spangelo/anaconda3/lib/python3.7/site-packages/sklearn/svm/_base.py:947: ConvergenceWarning: Liblinear failed to converge, increase the number of iterations.\n",
      "  \"the number of iterations.\", ConvergenceWarning)\n",
      "/Users/tomash.spangelo/anaconda3/lib/python3.7/site-packages/sklearn/svm/_base.py:947: ConvergenceWarning: Liblinear failed to converge, increase the number of iterations.\n",
      "  \"the number of iterations.\", ConvergenceWarning)\n",
      "/Users/tomash.spangelo/anaconda3/lib/python3.7/site-packages/sklearn/svm/_base.py:947: ConvergenceWarning: Liblinear failed to converge, increase the number of iterations.\n",
      "  \"the number of iterations.\", ConvergenceWarning)\n",
      "/Users/tomash.spangelo/anaconda3/lib/python3.7/site-packages/sklearn/svm/_base.py:947: ConvergenceWarning: Liblinear failed to converge, increase the number of iterations.\n",
      "  \"the number of iterations.\", ConvergenceWarning)\n",
      "/Users/tomash.spangelo/anaconda3/lib/python3.7/site-packages/sklearn/svm/_base.py:947: ConvergenceWarning: Liblinear failed to converge, increase the number of iterations.\n",
      "  \"the number of iterations.\", ConvergenceWarning)\n",
      "/Users/tomash.spangelo/anaconda3/lib/python3.7/site-packages/sklearn/svm/_base.py:947: ConvergenceWarning: Liblinear failed to converge, increase the number of iterations.\n",
      "  \"the number of iterations.\", ConvergenceWarning)\n",
      "/Users/tomash.spangelo/anaconda3/lib/python3.7/site-packages/sklearn/svm/_base.py:947: ConvergenceWarning: Liblinear failed to converge, increase the number of iterations.\n",
      "  \"the number of iterations.\", ConvergenceWarning)\n",
      "/Users/tomash.spangelo/anaconda3/lib/python3.7/site-packages/sklearn/svm/_base.py:947: ConvergenceWarning: Liblinear failed to converge, increase the number of iterations.\n",
      "  \"the number of iterations.\", ConvergenceWarning)\n",
      "/Users/tomash.spangelo/anaconda3/lib/python3.7/site-packages/sklearn/svm/_base.py:947: ConvergenceWarning: Liblinear failed to converge, increase the number of iterations.\n",
      "  \"the number of iterations.\", ConvergenceWarning)\n",
      "/Users/tomash.spangelo/anaconda3/lib/python3.7/site-packages/sklearn/svm/_base.py:947: ConvergenceWarning: Liblinear failed to converge, increase the number of iterations.\n",
      "  \"the number of iterations.\", ConvergenceWarning)\n",
      "/Users/tomash.spangelo/anaconda3/lib/python3.7/site-packages/sklearn/svm/_base.py:947: ConvergenceWarning: Liblinear failed to converge, increase the number of iterations.\n",
      "  \"the number of iterations.\", ConvergenceWarning)\n",
      "/Users/tomash.spangelo/anaconda3/lib/python3.7/site-packages/sklearn/svm/_base.py:947: ConvergenceWarning: Liblinear failed to converge, increase the number of iterations.\n",
      "  \"the number of iterations.\", ConvergenceWarning)\n",
      "/Users/tomash.spangelo/anaconda3/lib/python3.7/site-packages/sklearn/svm/_base.py:947: ConvergenceWarning: Liblinear failed to converge, increase the number of iterations.\n",
      "  \"the number of iterations.\", ConvergenceWarning)\n",
      "/Users/tomash.spangelo/anaconda3/lib/python3.7/site-packages/sklearn/svm/_base.py:947: ConvergenceWarning: Liblinear failed to converge, increase the number of iterations.\n",
      "  \"the number of iterations.\", ConvergenceWarning)\n"
     ]
    },
    {
     "name": "stdout",
     "output_type": "stream",
     "text": [
      "Best parameter, C: 1\n",
      "[0.9710144927536232, 0.9587852494577006, 0.9652173913043478, 0.935647143890094, 0.9594202898550724, 0.9522776572668112, 0.9616497829232996, 0.9508670520231214]\n",
      "\n",
      "k-NN\n",
      "Best parameter, k: 9\n",
      "[0.9420289855072463, 0.8734634851771511, 0.927536231884058, 0.8756326825741142, 0.9217391304347826, 0.9052783803326103, 0.9826338639652678, 0.9624277456647399]\n",
      "\n",
      "Random forest\n",
      "Best parameter, n_estimators: 50\n",
      "Best parameter, max_depth: 10\n",
      "[1.0, 0.958062183658713, 1.0, 0.9276934201012292, 1.0, 0.9450469992769343, 1.0, 0.9653179190751445]\n",
      "-----------------------------------\n",
      "\n",
      "Partition (% training): 80.0\n",
      "Trial number 2/3\n",
      "\n",
      "Linear SVM\n"
     ]
    },
    {
     "name": "stderr",
     "output_type": "stream",
     "text": [
      "/Users/tomash.spangelo/anaconda3/lib/python3.7/site-packages/sklearn/svm/_base.py:947: ConvergenceWarning: Liblinear failed to converge, increase the number of iterations.\n",
      "  \"the number of iterations.\", ConvergenceWarning)\n",
      "/Users/tomash.spangelo/anaconda3/lib/python3.7/site-packages/sklearn/svm/_base.py:947: ConvergenceWarning: Liblinear failed to converge, increase the number of iterations.\n",
      "  \"the number of iterations.\", ConvergenceWarning)\n",
      "/Users/tomash.spangelo/anaconda3/lib/python3.7/site-packages/sklearn/svm/_base.py:947: ConvergenceWarning: Liblinear failed to converge, increase the number of iterations.\n",
      "  \"the number of iterations.\", ConvergenceWarning)\n",
      "/Users/tomash.spangelo/anaconda3/lib/python3.7/site-packages/sklearn/svm/_base.py:947: ConvergenceWarning: Liblinear failed to converge, increase the number of iterations.\n",
      "  \"the number of iterations.\", ConvergenceWarning)\n",
      "/Users/tomash.spangelo/anaconda3/lib/python3.7/site-packages/sklearn/svm/_base.py:947: ConvergenceWarning: Liblinear failed to converge, increase the number of iterations.\n",
      "  \"the number of iterations.\", ConvergenceWarning)\n",
      "/Users/tomash.spangelo/anaconda3/lib/python3.7/site-packages/sklearn/svm/_base.py:947: ConvergenceWarning: Liblinear failed to converge, increase the number of iterations.\n",
      "  \"the number of iterations.\", ConvergenceWarning)\n",
      "/Users/tomash.spangelo/anaconda3/lib/python3.7/site-packages/sklearn/svm/_base.py:947: ConvergenceWarning: Liblinear failed to converge, increase the number of iterations.\n",
      "  \"the number of iterations.\", ConvergenceWarning)\n",
      "/Users/tomash.spangelo/anaconda3/lib/python3.7/site-packages/sklearn/svm/_base.py:947: ConvergenceWarning: Liblinear failed to converge, increase the number of iterations.\n",
      "  \"the number of iterations.\", ConvergenceWarning)\n",
      "/Users/tomash.spangelo/anaconda3/lib/python3.7/site-packages/sklearn/svm/_base.py:947: ConvergenceWarning: Liblinear failed to converge, increase the number of iterations.\n",
      "  \"the number of iterations.\", ConvergenceWarning)\n",
      "/Users/tomash.spangelo/anaconda3/lib/python3.7/site-packages/sklearn/svm/_base.py:947: ConvergenceWarning: Liblinear failed to converge, increase the number of iterations.\n",
      "  \"the number of iterations.\", ConvergenceWarning)\n",
      "/Users/tomash.spangelo/anaconda3/lib/python3.7/site-packages/sklearn/svm/_base.py:947: ConvergenceWarning: Liblinear failed to converge, increase the number of iterations.\n",
      "  \"the number of iterations.\", ConvergenceWarning)\n",
      "/Users/tomash.spangelo/anaconda3/lib/python3.7/site-packages/sklearn/svm/_base.py:947: ConvergenceWarning: Liblinear failed to converge, increase the number of iterations.\n",
      "  \"the number of iterations.\", ConvergenceWarning)\n",
      "/Users/tomash.spangelo/anaconda3/lib/python3.7/site-packages/sklearn/svm/_base.py:947: ConvergenceWarning: Liblinear failed to converge, increase the number of iterations.\n",
      "  \"the number of iterations.\", ConvergenceWarning)\n",
      "/Users/tomash.spangelo/anaconda3/lib/python3.7/site-packages/sklearn/svm/_base.py:947: ConvergenceWarning: Liblinear failed to converge, increase the number of iterations.\n",
      "  \"the number of iterations.\", ConvergenceWarning)\n",
      "/Users/tomash.spangelo/anaconda3/lib/python3.7/site-packages/sklearn/svm/_base.py:947: ConvergenceWarning: Liblinear failed to converge, increase the number of iterations.\n",
      "  \"the number of iterations.\", ConvergenceWarning)\n",
      "/Users/tomash.spangelo/anaconda3/lib/python3.7/site-packages/sklearn/svm/_base.py:947: ConvergenceWarning: Liblinear failed to converge, increase the number of iterations.\n",
      "  \"the number of iterations.\", ConvergenceWarning)\n",
      "/Users/tomash.spangelo/anaconda3/lib/python3.7/site-packages/sklearn/svm/_base.py:947: ConvergenceWarning: Liblinear failed to converge, increase the number of iterations.\n",
      "  \"the number of iterations.\", ConvergenceWarning)\n",
      "/Users/tomash.spangelo/anaconda3/lib/python3.7/site-packages/sklearn/svm/_base.py:947: ConvergenceWarning: Liblinear failed to converge, increase the number of iterations.\n",
      "  \"the number of iterations.\", ConvergenceWarning)\n",
      "/Users/tomash.spangelo/anaconda3/lib/python3.7/site-packages/sklearn/svm/_base.py:947: ConvergenceWarning: Liblinear failed to converge, increase the number of iterations.\n",
      "  \"the number of iterations.\", ConvergenceWarning)\n",
      "/Users/tomash.spangelo/anaconda3/lib/python3.7/site-packages/sklearn/svm/_base.py:947: ConvergenceWarning: Liblinear failed to converge, increase the number of iterations.\n",
      "  \"the number of iterations.\", ConvergenceWarning)\n",
      "/Users/tomash.spangelo/anaconda3/lib/python3.7/site-packages/sklearn/svm/_base.py:947: ConvergenceWarning: Liblinear failed to converge, increase the number of iterations.\n",
      "  \"the number of iterations.\", ConvergenceWarning)\n"
     ]
    },
    {
     "name": "stdout",
     "output_type": "stream",
     "text": [
      "Best parameter, C: 1\n",
      "[0.9710144927536232, 0.9587852494577006, 0.9652173913043478, 0.935647143890094, 0.9594202898550724, 0.9522776572668112, 0.9616497829232996, 0.9508670520231214, 0.9565846599131693, 0.9595375722543352]\n",
      "\n",
      "k-NN\n",
      "Best parameter, k: 9\n",
      "[0.9420289855072463, 0.8734634851771511, 0.927536231884058, 0.8756326825741142, 0.9217391304347826, 0.9052783803326103, 0.9826338639652678, 0.9624277456647399, 0.9876989869753979, 0.9710982658959537]\n",
      "\n",
      "Random forest\n",
      "Best parameter, n_estimators: 50\n",
      "Best parameter, max_depth: 10\n",
      "[1.0, 0.958062183658713, 1.0, 0.9276934201012292, 1.0, 0.9450469992769343, 1.0, 0.9653179190751445, 1.0, 0.9797687861271677]\n",
      "-----------------------------------\n",
      "\n",
      "Partition (% training): 80.0\n",
      "Trial number 3/3\n",
      "\n",
      "Linear SVM\n"
     ]
    },
    {
     "name": "stderr",
     "output_type": "stream",
     "text": [
      "/Users/tomash.spangelo/anaconda3/lib/python3.7/site-packages/sklearn/svm/_base.py:947: ConvergenceWarning: Liblinear failed to converge, increase the number of iterations.\n",
      "  \"the number of iterations.\", ConvergenceWarning)\n",
      "/Users/tomash.spangelo/anaconda3/lib/python3.7/site-packages/sklearn/svm/_base.py:947: ConvergenceWarning: Liblinear failed to converge, increase the number of iterations.\n",
      "  \"the number of iterations.\", ConvergenceWarning)\n",
      "/Users/tomash.spangelo/anaconda3/lib/python3.7/site-packages/sklearn/svm/_base.py:947: ConvergenceWarning: Liblinear failed to converge, increase the number of iterations.\n",
      "  \"the number of iterations.\", ConvergenceWarning)\n",
      "/Users/tomash.spangelo/anaconda3/lib/python3.7/site-packages/sklearn/svm/_base.py:947: ConvergenceWarning: Liblinear failed to converge, increase the number of iterations.\n",
      "  \"the number of iterations.\", ConvergenceWarning)\n",
      "/Users/tomash.spangelo/anaconda3/lib/python3.7/site-packages/sklearn/svm/_base.py:947: ConvergenceWarning: Liblinear failed to converge, increase the number of iterations.\n",
      "  \"the number of iterations.\", ConvergenceWarning)\n",
      "/Users/tomash.spangelo/anaconda3/lib/python3.7/site-packages/sklearn/svm/_base.py:947: ConvergenceWarning: Liblinear failed to converge, increase the number of iterations.\n",
      "  \"the number of iterations.\", ConvergenceWarning)\n",
      "/Users/tomash.spangelo/anaconda3/lib/python3.7/site-packages/sklearn/svm/_base.py:947: ConvergenceWarning: Liblinear failed to converge, increase the number of iterations.\n",
      "  \"the number of iterations.\", ConvergenceWarning)\n",
      "/Users/tomash.spangelo/anaconda3/lib/python3.7/site-packages/sklearn/svm/_base.py:947: ConvergenceWarning: Liblinear failed to converge, increase the number of iterations.\n",
      "  \"the number of iterations.\", ConvergenceWarning)\n",
      "/Users/tomash.spangelo/anaconda3/lib/python3.7/site-packages/sklearn/svm/_base.py:947: ConvergenceWarning: Liblinear failed to converge, increase the number of iterations.\n",
      "  \"the number of iterations.\", ConvergenceWarning)\n",
      "/Users/tomash.spangelo/anaconda3/lib/python3.7/site-packages/sklearn/svm/_base.py:947: ConvergenceWarning: Liblinear failed to converge, increase the number of iterations.\n",
      "  \"the number of iterations.\", ConvergenceWarning)\n",
      "/Users/tomash.spangelo/anaconda3/lib/python3.7/site-packages/sklearn/svm/_base.py:947: ConvergenceWarning: Liblinear failed to converge, increase the number of iterations.\n",
      "  \"the number of iterations.\", ConvergenceWarning)\n",
      "/Users/tomash.spangelo/anaconda3/lib/python3.7/site-packages/sklearn/svm/_base.py:947: ConvergenceWarning: Liblinear failed to converge, increase the number of iterations.\n",
      "  \"the number of iterations.\", ConvergenceWarning)\n",
      "/Users/tomash.spangelo/anaconda3/lib/python3.7/site-packages/sklearn/svm/_base.py:947: ConvergenceWarning: Liblinear failed to converge, increase the number of iterations.\n",
      "  \"the number of iterations.\", ConvergenceWarning)\n",
      "/Users/tomash.spangelo/anaconda3/lib/python3.7/site-packages/sklearn/svm/_base.py:947: ConvergenceWarning: Liblinear failed to converge, increase the number of iterations.\n",
      "  \"the number of iterations.\", ConvergenceWarning)\n",
      "/Users/tomash.spangelo/anaconda3/lib/python3.7/site-packages/sklearn/svm/_base.py:947: ConvergenceWarning: Liblinear failed to converge, increase the number of iterations.\n",
      "  \"the number of iterations.\", ConvergenceWarning)\n",
      "/Users/tomash.spangelo/anaconda3/lib/python3.7/site-packages/sklearn/svm/_base.py:947: ConvergenceWarning: Liblinear failed to converge, increase the number of iterations.\n",
      "  \"the number of iterations.\", ConvergenceWarning)\n",
      "/Users/tomash.spangelo/anaconda3/lib/python3.7/site-packages/sklearn/svm/_base.py:947: ConvergenceWarning: Liblinear failed to converge, increase the number of iterations.\n",
      "  \"the number of iterations.\", ConvergenceWarning)\n",
      "/Users/tomash.spangelo/anaconda3/lib/python3.7/site-packages/sklearn/svm/_base.py:947: ConvergenceWarning: Liblinear failed to converge, increase the number of iterations.\n",
      "  \"the number of iterations.\", ConvergenceWarning)\n",
      "/Users/tomash.spangelo/anaconda3/lib/python3.7/site-packages/sklearn/svm/_base.py:947: ConvergenceWarning: Liblinear failed to converge, increase the number of iterations.\n",
      "  \"the number of iterations.\", ConvergenceWarning)\n",
      "/Users/tomash.spangelo/anaconda3/lib/python3.7/site-packages/sklearn/svm/_base.py:947: ConvergenceWarning: Liblinear failed to converge, increase the number of iterations.\n",
      "  \"the number of iterations.\", ConvergenceWarning)\n",
      "/Users/tomash.spangelo/anaconda3/lib/python3.7/site-packages/sklearn/svm/_base.py:947: ConvergenceWarning: Liblinear failed to converge, increase the number of iterations.\n",
      "  \"the number of iterations.\", ConvergenceWarning)\n"
     ]
    },
    {
     "name": "stdout",
     "output_type": "stream",
     "text": [
      "Best parameter, C: 1\n",
      "[0.9710144927536232, 0.9587852494577006, 0.9652173913043478, 0.935647143890094, 0.9594202898550724, 0.9522776572668112, 0.9616497829232996, 0.9508670520231214, 0.9565846599131693, 0.9595375722543352, 0.9609261939218524, 0.9421965317919075]\n",
      "\n",
      "k-NN\n",
      "Best parameter, k: 9\n",
      "[0.9420289855072463, 0.8734634851771511, 0.927536231884058, 0.8756326825741142, 0.9217391304347826, 0.9052783803326103, 0.9826338639652678, 0.9624277456647399, 0.9876989869753979, 0.9710982658959537, 0.9848046309696092, 0.9624277456647399]\n",
      "\n",
      "Random forest\n",
      "Best parameter, n_estimators: 50\n",
      "Best parameter, max_depth: 10\n",
      "[1.0, 0.958062183658713, 1.0, 0.9276934201012292, 1.0, 0.9450469992769343, 1.0, 0.9653179190751445, 1.0, 0.9797687861271677, 1.0, 0.9739884393063584]\n"
     ]
    }
   ],
   "source": [
    "partitions=[0.2, 0.8]\n",
    "C_list = [0.1, 1, 10, 100, 1000]\n",
    "k_list = [1, 2, 3, 4, 5, 6, 7, 8, 9]\n",
    "n_estimators = [25, 50, 100]\n",
    "max_depth = [1, 5, 10]\n",
    "svm_accuracy=[]\n",
    "knn_accuracy=[]\n",
    "random_forest_accuracy=[]\n",
    "\n",
    "for p in partitions:\n",
    "    for t in range (3):\n",
    "        print('-----------------------------------')\n",
    "        print('\\nPartition (% training): ' + str(p*100))\n",
    "        print('Trial number '+ str(t+1)+'/3')\n",
    "        X_train, X_test, Y_train, Y_test = train_test_split(X, Y, train_size=p, random_state=t+1)\n",
    "\n",
    "        #Linear SVM\n",
    "        print('\\nLinear SVM')\n",
    "        \n",
    "        # Cross validate\n",
    "        estimator = svm.LinearSVC(penalty='l2', loss='hinge', random_state=1024)\n",
    "        param_grid = {'C': C_list}\n",
    "        grid_search = GridSearchCV(estimator=estimator, param_grid=param_grid, cv=10)\n",
    "        grid_search.fit(X_train, Y_train)\n",
    "        svm_cross_val_results = grid_search.cv_results_\n",
    "        \n",
    "        # Train using best hyperperamater(s)\n",
    "        C = grid_search.best_params_['C']\n",
    "        classifier = svm.LinearSVC(penalty='l2', loss='hinge', C=C, random_state=1024)\n",
    "        classifier.fit(X_train, Y_train)\n",
    "        Y_train_pred = classifier.predict(X_train)\n",
    "        Y_test_pred = classifier.predict(X_test)\n",
    "        \n",
    "        svm_accuracy.append(accuracy_score(Y_train, Y_train_pred))\n",
    "        svm_accuracy.append(accuracy_score(Y_test, Y_test_pred))\n",
    "        \n",
    "        print('Best parameter, C: '+ str(C))\n",
    "        print(svm_accuracy)\n",
    "        \n",
    "        #k-NN\n",
    "        print('\\nk-NN')\n",
    "        \n",
    "        # Cross validate\n",
    "        estimator = neighbors.KNeighborsClassifier()\n",
    "        param_grid = {'n_neighbors': k_list}\n",
    "        grid_search = GridSearchCV(estimator, param_grid, cv=5)\n",
    "        grid_search.fit(X_train, Y_train)\n",
    "        knn_cross_val_results = grid_search.cv_results_\n",
    "        \n",
    "        # Train using best hyperperamater(s)\n",
    "        k = grid_search.best_params_['n_neighbors']\n",
    "        classifier = neighbors.KNeighborsClassifier(n_neighbors=k)\n",
    "        classifier.fit(X_train, Y_train)\n",
    "        Y_train_pred = classifier.predict(X_train)\n",
    "        Y_test_pred = classifier.predict(X_test)\n",
    "        \n",
    "        knn_accuracy.append(accuracy_score(Y_train, Y_train_pred))\n",
    "        knn_accuracy.append(accuracy_score(Y_test, Y_test_pred))\n",
    "        \n",
    "        print('Best parameter, k: '+str(k))\n",
    "        print(knn_accuracy)\n",
    "        \n",
    "        #Random forest\n",
    "        print('\\nRandom forest')\n",
    "        \n",
    "        # Cross validate\n",
    "        estimator = ensemble.RandomForestClassifier(random_state=1024)\n",
    "        param_grid = {'n_estimators': n_estimators, 'max_depth': max_depth}\n",
    "        grid_search = GridSearchCV(estimator, param_grid, cv=5)\n",
    "        grid_search.fit(X_train, Y_train)\n",
    "        forest_cross_val_results = grid_search.cv_results_\n",
    "        \n",
    "        # Train using best hyperperamater(s)\n",
    "        n = grid_search.best_params_['n_estimators']\n",
    "        d = grid_search.best_params_['max_depth']\n",
    "        classifier = ensemble.RandomForestClassifier(n_estimators=n, max_depth=d, random_state=1024)\n",
    "        classifier.fit(X_train, Y_train)\n",
    "        \n",
    "        # Obtain the training and testing accuracy\n",
    "        Y_train_pred = classifier.predict(X_train)\n",
    "        Y_test_pred = classifier.predict(X_test)\n",
    "        \n",
    "        random_forest_accuracy.append(accuracy_score(Y_train, Y_train_pred))\n",
    "        random_forest_accuracy.append(accuracy_score(Y_test, Y_test_pred))\n",
    "        print('Best parameter, n_estimators: '+str(n))\n",
    "        print('Best parameter, max_depth: '+str(d))\n",
    "        print(random_forest_accuracy)\n",
    "        \n",
    "        "
   ]
  },
  {
   "cell_type": "markdown",
   "metadata": {},
   "source": [
    "### Averaged accuracy\n",
    "Here I will find the averaged training and testing accuracy with standard deviation for each classifier out of the three trials in each partition."
   ]
  },
  {
   "cell_type": "code",
   "execution_count": 7,
   "metadata": {},
   "outputs": [],
   "source": [
    "# Function takes in the list of all accuracies and computes average accordingly + standard deviation\n",
    "# Format of input: [(Partition1/Trial1/Training), (Partition1/Trial1/Testing), ...,\n",
    "#                   (Partition2/Trial3/Training), (Partition2/Trial3/Testing)]\n",
    "def averaged_accuracy(l):\n",
    "    avg_train_20_l=[]\n",
    "    avg_test_20_l=[]\n",
    "    avg_train_80_l=[]\n",
    "    avg_test_80_l=[]\n",
    "    for i in range(len(l)):\n",
    "        if i<6:\n",
    "            if i%2==0:\n",
    "                avg_train_20_l.append(l[i])\n",
    "            else:\n",
    "                avg_test_20_l.append(l[i])\n",
    "        else:\n",
    "            if i%2==0:\n",
    "                avg_train_80_l.append(l[i])\n",
    "            else:\n",
    "                avg_test_80_l.append(l[i])\n",
    "\n",
    "    avg_train_20 = sum(avg_train_20_l)/3\n",
    "    avg_train_20_std = np.std(avg_train_20_l)\n",
    "    avg_test_20 = sum(avg_test_20_l)/3\n",
    "    avg_test_20_std = np.std(avg_test_20_l)\n",
    "    avg_train_80 = sum(avg_train_80_l)/3\n",
    "    avg_train_80_std = np.std(avg_train_80_l)\n",
    "    avg_test_80 = sum(avg_test_80_l)/3\n",
    "    avg_test_80_std = np.std(avg_test_80_l)\n",
    "    return [(avg_train_20, avg_test_20, avg_train_20_std, avg_test_20_std),\n",
    "            (avg_train_80, avg_test_80, avg_train_80_std, avg_test_80_std )]\n",
    "    "
   ]
  },
  {
   "cell_type": "code",
   "execution_count": 8,
   "metadata": {},
   "outputs": [
    {
     "name": "stdout",
     "output_type": "stream",
     "text": [
      "SVM\n",
      "Average accuracy training 20/80: 0.9652173913043479 +/- 0.004733313512624501\n",
      "Average accuracy testing 20/80: 0.9489033502048686 +/- 0.00974277316529657\n",
      "Average accuracy training 80/20: 0.9597202122527738 +/- 0.002236762782319289\n",
      "Average accuracy testing 80/20: 0.9508670520231214 +/- 0.007079450123650777\n",
      "\n",
      "k-NN\n",
      "Average accuracy training 20/80: 0.9304347826086956 +/- 0.00853310228630708\n",
      "Average accuracy testing 20/80: 0.8847915160279586 +/- 0.014513443448854794\n",
      "Average accuracy training 80/20: 0.9850458273034249 +/- 0.002074849316701041\n",
      "Average accuracy testing 80/20: 0.9653179190751445 +/- 0.004087322434604306\n",
      "\n",
      "Random forest\n",
      "Average accuracy training 20/80: 1.0 +/- 0.0\n",
      "Average accuracy testing 20/80: 0.9436008676789588 +/- 0.012440094384732656\n",
      "Average accuracy training 80/20: 1.0 +/- 0.0\n",
      "Average accuracy testing 80/20: 0.9730250481695569 +/- 0.005938741814035629\n"
     ]
    }
   ],
   "source": [
    "#SVM\n",
    "svm_avg_acc = averaged_accuracy(svm_accuracy)\n",
    "print('SVM')\n",
    "print('Average accuracy training 20/80: {} +/- {}'.format(svm_avg_acc[0][0], \n",
    "                                                          svm_avg_acc[0][2]))\n",
    "print('Average accuracy testing 20/80: {} +/- {}'.format(svm_avg_acc[0][1],\n",
    "                                                         svm_avg_acc[0][3]))\n",
    "print('Average accuracy training 80/20: {} +/- {}'.format(svm_avg_acc[1][0],\n",
    "                                                          svm_avg_acc[1][2]))\n",
    "print('Average accuracy testing 80/20: {} +/- {}'.format(svm_avg_acc[1][1],\n",
    "                                                         svm_avg_acc[1][3]))\n",
    "\n",
    "#k-NN\n",
    "knn_avg_acc = averaged_accuracy(knn_accuracy)\n",
    "print('\\nk-NN')\n",
    "print('Average accuracy training 20/80: {} +/- {}'.format(knn_avg_acc[0][0], \n",
    "                                                          knn_avg_acc[0][2]))\n",
    "print('Average accuracy testing 20/80: {} +/- {}'.format(knn_avg_acc[0][1],\n",
    "                                                         knn_avg_acc[0][3]))\n",
    "print('Average accuracy training 80/20: {} +/- {}'.format(knn_avg_acc[1][0],\n",
    "                                                          knn_avg_acc[1][2]))\n",
    "print('Average accuracy testing 80/20: {} +/- {}'.format(knn_avg_acc[1][1],\n",
    "                                                         knn_avg_acc[1][3]))\n",
    "\n",
    "#Random forest\n",
    "forest_avg_acc = averaged_accuracy(random_forest_accuracy)\n",
    "print('\\nRandom forest')\n",
    "print('Average accuracy training 20/80: {} +/- {}'.format(forest_avg_acc[0][0], \n",
    "                                                          forest_avg_acc[0][2]))\n",
    "print('Average accuracy testing 20/80: {} +/- {}'.format(forest_avg_acc[0][1],\n",
    "                                                         forest_avg_acc[0][3]))\n",
    "print('Average accuracy training 80/20: {} +/- {}'.format(forest_avg_acc[1][0],\n",
    "                                                          forest_avg_acc[1][2]))\n",
    "print('Average accuracy testing 80/20: {} +/- {}'.format(forest_avg_acc[1][1],\n",
    "                                                         forest_avg_acc[1][3]))\n",
    "    "
   ]
  },
  {
   "cell_type": "markdown",
   "metadata": {},
   "source": [
    "### Draw heatmap\n",
    "Heatmap showing cross validation accuracy for each combination of hyperparameters for the third trial on 80/20 split for each classifier."
   ]
  },
  {
   "cell_type": "markdown",
   "metadata": {},
   "source": [
    "#### SVM"
   ]
  },
  {
   "cell_type": "code",
   "execution_count": 9,
   "metadata": {},
   "outputs": [
    {
     "name": "stdout",
     "output_type": "stream",
     "text": [
      "Best parameter, C: 1\n"
     ]
    },
    {
     "data": {
      "image/png": "[encoded data removed]",
      "text/plain": [
       "<Figure size 432x288 with 2 Axes>"
      ]
     },
     "metadata": {
      "image/png": {
       "height": 248,
       "width": 375
      },
      "needs_background": "light"
     },
     "output_type": "display_data"
    }
   ],
   "source": [
    "# SVM, trial 3, partion 80/20\n",
    "pvt_forest = pd.pivot_table(pd.DataFrame(svm_cross_val_results),\n",
    "    values='mean_test_score', index='param_C')\n",
    "sns.heatmap(pvt_forest)\n",
    "print(\"Best parameter, C: {}\".format(C))"
   ]
  },
  {
   "cell_type": "markdown",
   "metadata": {},
   "source": [
    "#### k-NN"
   ]
  },
  {
   "cell_type": "code",
   "execution_count": 10,
   "metadata": {},
   "outputs": [
    {
     "name": "stdout",
     "output_type": "stream",
     "text": [
      "Best parameter, n neighbors (k): 9\n"
     ]
    },
    {
     "data": {
      "image/png": "[encoded data removed]",
      "text/plain": [
       "<Figure size 432x288 with 2 Axes>"
      ]
     },
     "metadata": {
      "image/png": {
       "height": 248,
       "width": 369
      },
      "needs_background": "light"
     },
     "output_type": "display_data"
    }
   ],
   "source": [
    "# k-NN, trial 3, partion 80/20\n",
    "pvt_forest = pd.pivot_table(pd.DataFrame(knn_cross_val_results),\n",
    "    values='mean_test_score', index='param_n_neighbors')\n",
    "sns.heatmap(pvt_forest)\n",
    "print(\"Best parameter, n neighbors (k): {}\".format(k))\n"
   ]
  },
  {
   "cell_type": "markdown",
   "metadata": {},
   "source": [
    "#### Random forest"
   ]
  },
  {
   "cell_type": "code",
   "execution_count": 11,
   "metadata": {},
   "outputs": [
    {
     "name": "stdout",
     "output_type": "stream",
     "text": [
      "Best parameter, n_estimators: 50\n",
      "Best parameter, max_depth: 10\n"
     ]
    },
    {
     "data": {
      "image/png": "[encoded data removed]",
      "text/plain": [
       "<Figure size 432x288 with 2 Axes>"
      ]
     },
     "metadata": {
      "image/png": {
       "height": 262,
       "width": 369
      },
      "needs_background": "light"
     },
     "output_type": "display_data"
    }
   ],
   "source": [
    "# Random forest, trial 3, partion 80/20\n",
    "pvt_forest = pd.pivot_table(pd.DataFrame(forest_cross_val_results),\n",
    "    values='mean_test_score', index='param_n_estimators', columns='param_max_depth')\n",
    "sns.heatmap(pvt_forest)\n",
    "print(\"Best parameter, n_estimators: {}\".format(n))\n",
    "print(\"Best parameter, max_depth: {}\".format(d))\n"
   ]
  },
  {
   "cell_type": "code",
   "execution_count": null,
   "metadata": {},
   "outputs": [],
   "source": []
  }
 ],
 "metadata": {
  "kernelspec": {
   "display_name": "Python 3",
   "language": "python",
   "name": "python3"
  },
  "language_info": {
   "codemirror_mode": {
    "name": "ipython",
    "version": 3
   },
   "file_extension": ".py",
   "mimetype": "text/x-python",
   "name": "python",
   "nbconvert_exporter": "python",
   "pygments_lexer": "ipython3",
   "version": "3.7.3"
  }
 },
 "nbformat": 4,
 "nbformat_minor": 4
}
